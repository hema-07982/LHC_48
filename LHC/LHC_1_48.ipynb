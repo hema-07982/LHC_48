{
  "nbformat": 4,
  "nbformat_minor": 0,
  "metadata": {
    "colab": {
      "name": "LHC-1-48.ipynb",
      "provenance": [],
      "collapsed_sections": []
    },
    "kernelspec": {
      "name": "python3",
      "display_name": "Python 3"
    },
    "language_info": {
      "name": "python"
    }
  },
  "cells": [
    {
      "cell_type": "code",
      "execution_count": 3,
      "metadata": {
        "id": "G0r5FTv8Ifmo"
      },
      "outputs": [],
      "source": [
        "from google.colab import drive"
      ]
    },
    {
      "cell_type": "code",
      "source": [
        "drive.mount('/content/drive')"
      ],
      "metadata": {
        "colab": {
          "base_uri": "https://localhost:8080/"
        },
        "id": "N6LA6CxmJp3r",
        "outputId": "6dac8204-03ff-464a-b421-665272687b29"
      },
      "execution_count": 5,
      "outputs": [
        {
          "output_type": "stream",
          "name": "stdout",
          "text": [
            "Mounted at /content/drive\n"
          ]
        }
      ]
    },
    {
      "cell_type": "code",
      "source": [
        "cd /content/drive/\"MyDrive/ LHC\""
      ],
      "metadata": {
        "colab": {
          "base_uri": "https://localhost:8080/"
        },
        "id": "sr9Mf_PlJ0rt",
        "outputId": "2090159a-f86e-48a2-d804-ed93bd579a38"
      },
      "execution_count": 6,
      "outputs": [
        {
          "output_type": "stream",
          "name": "stdout",
          "text": [
            "/content/drive/MyDrive/ LHC\n"
          ]
        }
      ]
    },
    {
      "cell_type": "code",
      "source": [
        "import numpy as np\n",
        "import pandas as pd\n",
        "import matplotlib.pyplot as plt\n",
        "\n",
        "\n",
        "\n",
        "df1 = pd.read_csv('/content/drive/MyDrive/ LHC/Arjun_Assignment_data/dataset/posts_short.csv')\n",
        "print(df1)\n",
        "df1.head()\n"
      ],
      "metadata": {
        "colab": {
          "base_uri": "https://localhost:8080/",
          "height": 1000
        },
        "id": "9otVbAztKbjQ",
        "outputId": "94b1425d-7f99-435c-d8b1-660893a25b94"
      },
      "execution_count": 7,
      "outputs": [
        {
          "output_type": "stream",
          "name": "stdout",
          "text": [
            "        Unnamed: 0        id  post_type_id  accepted_answer_id  parent_id  \\\n",
            "0                0         4             1                   7       -999   \n",
            "1                1         6             1                  31       -999   \n",
            "2                2         9             1                1404       -999   \n",
            "3                3        11             1                1248       -999   \n",
            "4                4        13             1                -999       -999   \n",
            "...            ...       ...           ...                 ...        ...   \n",
            "676199      676199  52133457             1                -999       -999   \n",
            "676200      676200  52133674             1                -999       -999   \n",
            "676201      676201  52133700             1                -999       -999   \n",
            "676202      676202  52133880             1                -999       -999   \n",
            "676203      676203  52134121             1                -999       -999   \n",
            "\n",
            "                  creation_date  score  view_count  owner_user_id  \\\n",
            "0       2008-07-31T21:42:52.667    573       37080              8   \n",
            "1       2008-07-31T22:08:08.620    256       16306              9   \n",
            "2       2008-07-31T23:40:59.743   1743      480476              1   \n",
            "3       2008-07-31T23:55:37.967   1348      136033              1   \n",
            "4       2008-08-01T00:42:38.903    539      157009              9   \n",
            "...                         ...    ...         ...            ...   \n",
            "676199  2018-09-02T02:10:04.210      0          14        4101319   \n",
            "676200  2018-09-02T03:08:51.103     -3          16        9815281   \n",
            "676201  2018-09-02T03:15:42.997      0          23        4044009   \n",
            "676202  2018-09-02T04:04:31.570      0          15       10271692   \n",
            "676203  2018-09-02T05:02:16.480      0          12       10049938   \n",
            "\n",
            "                                                     tags  answer_count  \\\n",
            "0       <c#><floating-point><type-conversion><double><...            13   \n",
            "1                  <html><css><css3><internet-explorer-7>             5   \n",
            "2                                    <c#><.net><datetime>            64   \n",
            "3       <c#><datetime><time><datediff><relative-time-s...            35   \n",
            "4       <javascript><html><browser><timezone><timezone...            25   \n",
            "...                                                   ...           ...   \n",
            "676199                                   <python><import>             0   \n",
            "676200                   <java><firebase><android-studio>             0   \n",
            "676201                                                <c>             0   \n",
            "676202                         <angularjs><node.js><ajax>             1   \n",
            "676203                                        <php><html>             2   \n",
            "\n",
            "        comment_count  favorite_count     community_owned_date  \n",
            "0                   1              41  2012-10-31T16:42:47.213  \n",
            "1                   0              10                      NaN  \n",
            "2                   7             399  2011-08-16T19:40:43.080  \n",
            "3                   3             529  2009-09-04T13:15:59.820  \n",
            "4                   6             137                      NaN  \n",
            "...               ...             ...                      ...  \n",
            "676199              0               0                      NaN  \n",
            "676200              2               0                      NaN  \n",
            "676201              1               0                      NaN  \n",
            "676202              1               0                      NaN  \n",
            "676203              1               0                      NaN  \n",
            "\n",
            "[676204 rows x 14 columns]\n"
          ]
        },
        {
          "output_type": "stream",
          "name": "stderr",
          "text": [
            "/usr/local/lib/python3.7/dist-packages/IPython/core/interactiveshell.py:2882: DtypeWarning: Columns (13) have mixed types.Specify dtype option on import or set low_memory=False.\n",
            "  exec(code_obj, self.user_global_ns, self.user_ns)\n"
          ]
        },
        {
          "output_type": "execute_result",
          "data": {
            "text/plain": [
              "   Unnamed: 0  id  post_type_id  accepted_answer_id  parent_id  \\\n",
              "0           0   4             1                   7       -999   \n",
              "1           1   6             1                  31       -999   \n",
              "2           2   9             1                1404       -999   \n",
              "3           3  11             1                1248       -999   \n",
              "4           4  13             1                -999       -999   \n",
              "\n",
              "             creation_date  score  view_count  owner_user_id  \\\n",
              "0  2008-07-31T21:42:52.667    573       37080              8   \n",
              "1  2008-07-31T22:08:08.620    256       16306              9   \n",
              "2  2008-07-31T23:40:59.743   1743      480476              1   \n",
              "3  2008-07-31T23:55:37.967   1348      136033              1   \n",
              "4  2008-08-01T00:42:38.903    539      157009              9   \n",
              "\n",
              "                                                tags  answer_count  \\\n",
              "0  <c#><floating-point><type-conversion><double><...            13   \n",
              "1             <html><css><css3><internet-explorer-7>             5   \n",
              "2                               <c#><.net><datetime>            64   \n",
              "3  <c#><datetime><time><datediff><relative-time-s...            35   \n",
              "4  <javascript><html><browser><timezone><timezone...            25   \n",
              "\n",
              "   comment_count  favorite_count     community_owned_date  \n",
              "0              1              41  2012-10-31T16:42:47.213  \n",
              "1              0              10                      NaN  \n",
              "2              7             399  2011-08-16T19:40:43.080  \n",
              "3              3             529  2009-09-04T13:15:59.820  \n",
              "4              6             137                      NaN  "
            ],
            "text/html": [
              "\n",
              "  <div id=\"df-88ba73c4-4302-4233-8c72-7d20430e64be\">\n",
              "    <div class=\"colab-df-container\">\n",
              "      <div>\n",
              "<style scoped>\n",
              "    .dataframe tbody tr th:only-of-type {\n",
              "        vertical-align: middle;\n",
              "    }\n",
              "\n",
              "    .dataframe tbody tr th {\n",
              "        vertical-align: top;\n",
              "    }\n",
              "\n",
              "    .dataframe thead th {\n",
              "        text-align: right;\n",
              "    }\n",
              "</style>\n",
              "<table border=\"1\" class=\"dataframe\">\n",
              "  <thead>\n",
              "    <tr style=\"text-align: right;\">\n",
              "      <th></th>\n",
              "      <th>Unnamed: 0</th>\n",
              "      <th>id</th>\n",
              "      <th>post_type_id</th>\n",
              "      <th>accepted_answer_id</th>\n",
              "      <th>parent_id</th>\n",
              "      <th>creation_date</th>\n",
              "      <th>score</th>\n",
              "      <th>view_count</th>\n",
              "      <th>owner_user_id</th>\n",
              "      <th>tags</th>\n",
              "      <th>answer_count</th>\n",
              "      <th>comment_count</th>\n",
              "      <th>favorite_count</th>\n",
              "      <th>community_owned_date</th>\n",
              "    </tr>\n",
              "  </thead>\n",
              "  <tbody>\n",
              "    <tr>\n",
              "      <th>0</th>\n",
              "      <td>0</td>\n",
              "      <td>4</td>\n",
              "      <td>1</td>\n",
              "      <td>7</td>\n",
              "      <td>-999</td>\n",
              "      <td>2008-07-31T21:42:52.667</td>\n",
              "      <td>573</td>\n",
              "      <td>37080</td>\n",
              "      <td>8</td>\n",
              "      <td>&lt;c#&gt;&lt;floating-point&gt;&lt;type-conversion&gt;&lt;double&gt;&lt;...</td>\n",
              "      <td>13</td>\n",
              "      <td>1</td>\n",
              "      <td>41</td>\n",
              "      <td>2012-10-31T16:42:47.213</td>\n",
              "    </tr>\n",
              "    <tr>\n",
              "      <th>1</th>\n",
              "      <td>1</td>\n",
              "      <td>6</td>\n",
              "      <td>1</td>\n",
              "      <td>31</td>\n",
              "      <td>-999</td>\n",
              "      <td>2008-07-31T22:08:08.620</td>\n",
              "      <td>256</td>\n",
              "      <td>16306</td>\n",
              "      <td>9</td>\n",
              "      <td>&lt;html&gt;&lt;css&gt;&lt;css3&gt;&lt;internet-explorer-7&gt;</td>\n",
              "      <td>5</td>\n",
              "      <td>0</td>\n",
              "      <td>10</td>\n",
              "      <td>NaN</td>\n",
              "    </tr>\n",
              "    <tr>\n",
              "      <th>2</th>\n",
              "      <td>2</td>\n",
              "      <td>9</td>\n",
              "      <td>1</td>\n",
              "      <td>1404</td>\n",
              "      <td>-999</td>\n",
              "      <td>2008-07-31T23:40:59.743</td>\n",
              "      <td>1743</td>\n",
              "      <td>480476</td>\n",
              "      <td>1</td>\n",
              "      <td>&lt;c#&gt;&lt;.net&gt;&lt;datetime&gt;</td>\n",
              "      <td>64</td>\n",
              "      <td>7</td>\n",
              "      <td>399</td>\n",
              "      <td>2011-08-16T19:40:43.080</td>\n",
              "    </tr>\n",
              "    <tr>\n",
              "      <th>3</th>\n",
              "      <td>3</td>\n",
              "      <td>11</td>\n",
              "      <td>1</td>\n",
              "      <td>1248</td>\n",
              "      <td>-999</td>\n",
              "      <td>2008-07-31T23:55:37.967</td>\n",
              "      <td>1348</td>\n",
              "      <td>136033</td>\n",
              "      <td>1</td>\n",
              "      <td>&lt;c#&gt;&lt;datetime&gt;&lt;time&gt;&lt;datediff&gt;&lt;relative-time-s...</td>\n",
              "      <td>35</td>\n",
              "      <td>3</td>\n",
              "      <td>529</td>\n",
              "      <td>2009-09-04T13:15:59.820</td>\n",
              "    </tr>\n",
              "    <tr>\n",
              "      <th>4</th>\n",
              "      <td>4</td>\n",
              "      <td>13</td>\n",
              "      <td>1</td>\n",
              "      <td>-999</td>\n",
              "      <td>-999</td>\n",
              "      <td>2008-08-01T00:42:38.903</td>\n",
              "      <td>539</td>\n",
              "      <td>157009</td>\n",
              "      <td>9</td>\n",
              "      <td>&lt;javascript&gt;&lt;html&gt;&lt;browser&gt;&lt;timezone&gt;&lt;timezone...</td>\n",
              "      <td>25</td>\n",
              "      <td>6</td>\n",
              "      <td>137</td>\n",
              "      <td>NaN</td>\n",
              "    </tr>\n",
              "  </tbody>\n",
              "</table>\n",
              "</div>\n",
              "      <button class=\"colab-df-convert\" onclick=\"convertToInteractive('df-88ba73c4-4302-4233-8c72-7d20430e64be')\"\n",
              "              title=\"Convert this dataframe to an interactive table.\"\n",
              "              style=\"display:none;\">\n",
              "        \n",
              "  <svg xmlns=\"http://www.w3.org/2000/svg\" height=\"24px\"viewBox=\"0 0 24 24\"\n",
              "       width=\"24px\">\n",
              "    <path d=\"M0 0h24v24H0V0z\" fill=\"none\"/>\n",
              "    <path d=\"M18.56 5.44l.94 2.06.94-2.06 2.06-.94-2.06-.94-.94-2.06-.94 2.06-2.06.94zm-11 1L8.5 8.5l.94-2.06 2.06-.94-2.06-.94L8.5 2.5l-.94 2.06-2.06.94zm10 10l.94 2.06.94-2.06 2.06-.94-2.06-.94-.94-2.06-.94 2.06-2.06.94z\"/><path d=\"M17.41 7.96l-1.37-1.37c-.4-.4-.92-.59-1.43-.59-.52 0-1.04.2-1.43.59L10.3 9.45l-7.72 7.72c-.78.78-.78 2.05 0 2.83L4 21.41c.39.39.9.59 1.41.59.51 0 1.02-.2 1.41-.59l7.78-7.78 2.81-2.81c.8-.78.8-2.07 0-2.86zM5.41 20L4 18.59l7.72-7.72 1.47 1.35L5.41 20z\"/>\n",
              "  </svg>\n",
              "      </button>\n",
              "      \n",
              "  <style>\n",
              "    .colab-df-container {\n",
              "      display:flex;\n",
              "      flex-wrap:wrap;\n",
              "      gap: 12px;\n",
              "    }\n",
              "\n",
              "    .colab-df-convert {\n",
              "      background-color: #E8F0FE;\n",
              "      border: none;\n",
              "      border-radius: 50%;\n",
              "      cursor: pointer;\n",
              "      display: none;\n",
              "      fill: #1967D2;\n",
              "      height: 32px;\n",
              "      padding: 0 0 0 0;\n",
              "      width: 32px;\n",
              "    }\n",
              "\n",
              "    .colab-df-convert:hover {\n",
              "      background-color: #E2EBFA;\n",
              "      box-shadow: 0px 1px 2px rgba(60, 64, 67, 0.3), 0px 1px 3px 1px rgba(60, 64, 67, 0.15);\n",
              "      fill: #174EA6;\n",
              "    }\n",
              "\n",
              "    [theme=dark] .colab-df-convert {\n",
              "      background-color: #3B4455;\n",
              "      fill: #D2E3FC;\n",
              "    }\n",
              "\n",
              "    [theme=dark] .colab-df-convert:hover {\n",
              "      background-color: #434B5C;\n",
              "      box-shadow: 0px 1px 3px 1px rgba(0, 0, 0, 0.15);\n",
              "      filter: drop-shadow(0px 1px 2px rgba(0, 0, 0, 0.3));\n",
              "      fill: #FFFFFF;\n",
              "    }\n",
              "  </style>\n",
              "\n",
              "      <script>\n",
              "        const buttonEl =\n",
              "          document.querySelector('#df-88ba73c4-4302-4233-8c72-7d20430e64be button.colab-df-convert');\n",
              "        buttonEl.style.display =\n",
              "          google.colab.kernel.accessAllowed ? 'block' : 'none';\n",
              "\n",
              "        async function convertToInteractive(key) {\n",
              "          const element = document.querySelector('#df-88ba73c4-4302-4233-8c72-7d20430e64be');\n",
              "          const dataTable =\n",
              "            await google.colab.kernel.invokeFunction('convertToInteractive',\n",
              "                                                     [key], {});\n",
              "          if (!dataTable) return;\n",
              "\n",
              "          const docLinkHtml = 'Like what you see? Visit the ' +\n",
              "            '<a target=\"_blank\" href=https://colab.research.google.com/notebooks/data_table.ipynb>data table notebook</a>'\n",
              "            + ' to learn more about interactive tables.';\n",
              "          element.innerHTML = '';\n",
              "          dataTable['output_type'] = 'display_data';\n",
              "          await google.colab.output.renderOutput(dataTable, element);\n",
              "          const docLink = document.createElement('div');\n",
              "          docLink.innerHTML = docLinkHtml;\n",
              "          element.appendChild(docLink);\n",
              "        }\n",
              "      </script>\n",
              "    </div>\n",
              "  </div>\n",
              "  "
            ]
          },
          "metadata": {},
          "execution_count": 7
        }
      ]
    },
    {
      "cell_type": "code",
      "source": [
        "df1.shape"
      ],
      "metadata": {
        "colab": {
          "base_uri": "https://localhost:8080/"
        },
        "id": "XKR97s2WDGEj",
        "outputId": "98b043a3-e24f-4770-ff63-f9c181c518c8"
      },
      "execution_count": 9,
      "outputs": [
        {
          "output_type": "execute_result",
          "data": {
            "text/plain": [
              "(676204, 14)"
            ]
          },
          "metadata": {},
          "execution_count": 9
        }
      ]
    },
    {
      "cell_type": "code",
      "source": [
        "type(df1)"
      ],
      "metadata": {
        "colab": {
          "base_uri": "https://localhost:8080/"
        },
        "id": "G5uZwOFQFCtZ",
        "outputId": "cf7d2555-6413-4122-d737-f5030cfd85ed"
      },
      "execution_count": 11,
      "outputs": [
        {
          "output_type": "execute_result",
          "data": {
            "text/plain": [
              "pandas.core.frame.DataFrame"
            ]
          },
          "metadata": {},
          "execution_count": 11
        }
      ]
    },
    {
      "cell_type": "code",
      "source": [
        "df1= pd.DataFrame(df1)"
      ],
      "metadata": {
        "id": "Gw5nXkUyFIjj"
      },
      "execution_count": 12,
      "outputs": []
    },
    {
      "cell_type": "code",
      "source": [
        "df1.describe()"
      ],
      "metadata": {
        "colab": {
          "base_uri": "https://localhost:8080/",
          "height": 300
        },
        "id": "QQ1r5JDnFM3_",
        "outputId": "6ef5f688-76d6-448d-a1fb-fb3dc8a28762"
      },
      "execution_count": 13,
      "outputs": [
        {
          "output_type": "execute_result",
          "data": {
            "text/plain": [
              "          Unnamed: 0            id  post_type_id  accepted_answer_id  \\\n",
              "count  676204.000000  6.762040e+05      676204.0        6.762040e+05   \n",
              "mean   338101.500000  2.584291e+07           1.0        1.166794e+07   \n",
              "std    195203.425051  1.586292e+07           0.0        1.531875e+07   \n",
              "min         0.000000  4.000000e+00           1.0       -9.990000e+02   \n",
              "25%    169050.750000  1.170959e+07           1.0       -9.990000e+02   \n",
              "50%    338101.500000  2.566376e+07           1.0        2.574750e+06   \n",
              "75%    507152.250000  3.999613e+07           1.0        2.095320e+07   \n",
              "max    676203.000000  5.213412e+07           1.0        5.213268e+07   \n",
              "\n",
              "       parent_id          score    view_count  owner_user_id   answer_count  \\\n",
              "count   676204.0  676204.000000  6.762040e+05   6.762040e+05  676204.000000   \n",
              "mean      -999.0      14.731906  1.549030e+04   2.891993e+06       2.415215   \n",
              "std          0.0      97.924320  7.056748e+04   2.703980e+06       3.403235   \n",
              "min       -999.0    -146.000000  3.000000e+00  -9.990000e+02       0.000000   \n",
              "25%       -999.0       0.000000  6.400000e+01   6.399082e+05       1.000000   \n",
              "50%       -999.0       1.000000  4.880000e+02   1.952811e+06       2.000000   \n",
              "75%       -999.0       5.000000  5.694000e+03   4.648680e+06       3.000000   \n",
              "max       -999.0   21775.000000  6.842435e+06   1.030524e+07     518.000000   \n",
              "\n",
              "       comment_count  favorite_count  \n",
              "count  676204.000000   676204.000000  \n",
              "mean        2.547613        5.042214  \n",
              "std         2.914937       44.758421  \n",
              "min         0.000000        0.000000  \n",
              "25%         0.000000        0.000000  \n",
              "50%         2.000000        0.000000  \n",
              "75%         4.000000        1.000000  \n",
              "max        70.000000     9977.000000  "
            ],
            "text/html": [
              "\n",
              "  <div id=\"df-b35671a9-025e-4b16-8836-1c7875ddf3e8\">\n",
              "    <div class=\"colab-df-container\">\n",
              "      <div>\n",
              "<style scoped>\n",
              "    .dataframe tbody tr th:only-of-type {\n",
              "        vertical-align: middle;\n",
              "    }\n",
              "\n",
              "    .dataframe tbody tr th {\n",
              "        vertical-align: top;\n",
              "    }\n",
              "\n",
              "    .dataframe thead th {\n",
              "        text-align: right;\n",
              "    }\n",
              "</style>\n",
              "<table border=\"1\" class=\"dataframe\">\n",
              "  <thead>\n",
              "    <tr style=\"text-align: right;\">\n",
              "      <th></th>\n",
              "      <th>Unnamed: 0</th>\n",
              "      <th>id</th>\n",
              "      <th>post_type_id</th>\n",
              "      <th>accepted_answer_id</th>\n",
              "      <th>parent_id</th>\n",
              "      <th>score</th>\n",
              "      <th>view_count</th>\n",
              "      <th>owner_user_id</th>\n",
              "      <th>answer_count</th>\n",
              "      <th>comment_count</th>\n",
              "      <th>favorite_count</th>\n",
              "    </tr>\n",
              "  </thead>\n",
              "  <tbody>\n",
              "    <tr>\n",
              "      <th>count</th>\n",
              "      <td>676204.000000</td>\n",
              "      <td>6.762040e+05</td>\n",
              "      <td>676204.0</td>\n",
              "      <td>6.762040e+05</td>\n",
              "      <td>676204.0</td>\n",
              "      <td>676204.000000</td>\n",
              "      <td>6.762040e+05</td>\n",
              "      <td>6.762040e+05</td>\n",
              "      <td>676204.000000</td>\n",
              "      <td>676204.000000</td>\n",
              "      <td>676204.000000</td>\n",
              "    </tr>\n",
              "    <tr>\n",
              "      <th>mean</th>\n",
              "      <td>338101.500000</td>\n",
              "      <td>2.584291e+07</td>\n",
              "      <td>1.0</td>\n",
              "      <td>1.166794e+07</td>\n",
              "      <td>-999.0</td>\n",
              "      <td>14.731906</td>\n",
              "      <td>1.549030e+04</td>\n",
              "      <td>2.891993e+06</td>\n",
              "      <td>2.415215</td>\n",
              "      <td>2.547613</td>\n",
              "      <td>5.042214</td>\n",
              "    </tr>\n",
              "    <tr>\n",
              "      <th>std</th>\n",
              "      <td>195203.425051</td>\n",
              "      <td>1.586292e+07</td>\n",
              "      <td>0.0</td>\n",
              "      <td>1.531875e+07</td>\n",
              "      <td>0.0</td>\n",
              "      <td>97.924320</td>\n",
              "      <td>7.056748e+04</td>\n",
              "      <td>2.703980e+06</td>\n",
              "      <td>3.403235</td>\n",
              "      <td>2.914937</td>\n",
              "      <td>44.758421</td>\n",
              "    </tr>\n",
              "    <tr>\n",
              "      <th>min</th>\n",
              "      <td>0.000000</td>\n",
              "      <td>4.000000e+00</td>\n",
              "      <td>1.0</td>\n",
              "      <td>-9.990000e+02</td>\n",
              "      <td>-999.0</td>\n",
              "      <td>-146.000000</td>\n",
              "      <td>3.000000e+00</td>\n",
              "      <td>-9.990000e+02</td>\n",
              "      <td>0.000000</td>\n",
              "      <td>0.000000</td>\n",
              "      <td>0.000000</td>\n",
              "    </tr>\n",
              "    <tr>\n",
              "      <th>25%</th>\n",
              "      <td>169050.750000</td>\n",
              "      <td>1.170959e+07</td>\n",
              "      <td>1.0</td>\n",
              "      <td>-9.990000e+02</td>\n",
              "      <td>-999.0</td>\n",
              "      <td>0.000000</td>\n",
              "      <td>6.400000e+01</td>\n",
              "      <td>6.399082e+05</td>\n",
              "      <td>1.000000</td>\n",
              "      <td>0.000000</td>\n",
              "      <td>0.000000</td>\n",
              "    </tr>\n",
              "    <tr>\n",
              "      <th>50%</th>\n",
              "      <td>338101.500000</td>\n",
              "      <td>2.566376e+07</td>\n",
              "      <td>1.0</td>\n",
              "      <td>2.574750e+06</td>\n",
              "      <td>-999.0</td>\n",
              "      <td>1.000000</td>\n",
              "      <td>4.880000e+02</td>\n",
              "      <td>1.952811e+06</td>\n",
              "      <td>2.000000</td>\n",
              "      <td>2.000000</td>\n",
              "      <td>0.000000</td>\n",
              "    </tr>\n",
              "    <tr>\n",
              "      <th>75%</th>\n",
              "      <td>507152.250000</td>\n",
              "      <td>3.999613e+07</td>\n",
              "      <td>1.0</td>\n",
              "      <td>2.095320e+07</td>\n",
              "      <td>-999.0</td>\n",
              "      <td>5.000000</td>\n",
              "      <td>5.694000e+03</td>\n",
              "      <td>4.648680e+06</td>\n",
              "      <td>3.000000</td>\n",
              "      <td>4.000000</td>\n",
              "      <td>1.000000</td>\n",
              "    </tr>\n",
              "    <tr>\n",
              "      <th>max</th>\n",
              "      <td>676203.000000</td>\n",
              "      <td>5.213412e+07</td>\n",
              "      <td>1.0</td>\n",
              "      <td>5.213268e+07</td>\n",
              "      <td>-999.0</td>\n",
              "      <td>21775.000000</td>\n",
              "      <td>6.842435e+06</td>\n",
              "      <td>1.030524e+07</td>\n",
              "      <td>518.000000</td>\n",
              "      <td>70.000000</td>\n",
              "      <td>9977.000000</td>\n",
              "    </tr>\n",
              "  </tbody>\n",
              "</table>\n",
              "</div>\n",
              "      <button class=\"colab-df-convert\" onclick=\"convertToInteractive('df-b35671a9-025e-4b16-8836-1c7875ddf3e8')\"\n",
              "              title=\"Convert this dataframe to an interactive table.\"\n",
              "              style=\"display:none;\">\n",
              "        \n",
              "  <svg xmlns=\"http://www.w3.org/2000/svg\" height=\"24px\"viewBox=\"0 0 24 24\"\n",
              "       width=\"24px\">\n",
              "    <path d=\"M0 0h24v24H0V0z\" fill=\"none\"/>\n",
              "    <path d=\"M18.56 5.44l.94 2.06.94-2.06 2.06-.94-2.06-.94-.94-2.06-.94 2.06-2.06.94zm-11 1L8.5 8.5l.94-2.06 2.06-.94-2.06-.94L8.5 2.5l-.94 2.06-2.06.94zm10 10l.94 2.06.94-2.06 2.06-.94-2.06-.94-.94-2.06-.94 2.06-2.06.94z\"/><path d=\"M17.41 7.96l-1.37-1.37c-.4-.4-.92-.59-1.43-.59-.52 0-1.04.2-1.43.59L10.3 9.45l-7.72 7.72c-.78.78-.78 2.05 0 2.83L4 21.41c.39.39.9.59 1.41.59.51 0 1.02-.2 1.41-.59l7.78-7.78 2.81-2.81c.8-.78.8-2.07 0-2.86zM5.41 20L4 18.59l7.72-7.72 1.47 1.35L5.41 20z\"/>\n",
              "  </svg>\n",
              "      </button>\n",
              "      \n",
              "  <style>\n",
              "    .colab-df-container {\n",
              "      display:flex;\n",
              "      flex-wrap:wrap;\n",
              "      gap: 12px;\n",
              "    }\n",
              "\n",
              "    .colab-df-convert {\n",
              "      background-color: #E8F0FE;\n",
              "      border: none;\n",
              "      border-radius: 50%;\n",
              "      cursor: pointer;\n",
              "      display: none;\n",
              "      fill: #1967D2;\n",
              "      height: 32px;\n",
              "      padding: 0 0 0 0;\n",
              "      width: 32px;\n",
              "    }\n",
              "\n",
              "    .colab-df-convert:hover {\n",
              "      background-color: #E2EBFA;\n",
              "      box-shadow: 0px 1px 2px rgba(60, 64, 67, 0.3), 0px 1px 3px 1px rgba(60, 64, 67, 0.15);\n",
              "      fill: #174EA6;\n",
              "    }\n",
              "\n",
              "    [theme=dark] .colab-df-convert {\n",
              "      background-color: #3B4455;\n",
              "      fill: #D2E3FC;\n",
              "    }\n",
              "\n",
              "    [theme=dark] .colab-df-convert:hover {\n",
              "      background-color: #434B5C;\n",
              "      box-shadow: 0px 1px 3px 1px rgba(0, 0, 0, 0.15);\n",
              "      filter: drop-shadow(0px 1px 2px rgba(0, 0, 0, 0.3));\n",
              "      fill: #FFFFFF;\n",
              "    }\n",
              "  </style>\n",
              "\n",
              "      <script>\n",
              "        const buttonEl =\n",
              "          document.querySelector('#df-b35671a9-025e-4b16-8836-1c7875ddf3e8 button.colab-df-convert');\n",
              "        buttonEl.style.display =\n",
              "          google.colab.kernel.accessAllowed ? 'block' : 'none';\n",
              "\n",
              "        async function convertToInteractive(key) {\n",
              "          const element = document.querySelector('#df-b35671a9-025e-4b16-8836-1c7875ddf3e8');\n",
              "          const dataTable =\n",
              "            await google.colab.kernel.invokeFunction('convertToInteractive',\n",
              "                                                     [key], {});\n",
              "          if (!dataTable) return;\n",
              "\n",
              "          const docLinkHtml = 'Like what you see? Visit the ' +\n",
              "            '<a target=\"_blank\" href=https://colab.research.google.com/notebooks/data_table.ipynb>data table notebook</a>'\n",
              "            + ' to learn more about interactive tables.';\n",
              "          element.innerHTML = '';\n",
              "          dataTable['output_type'] = 'display_data';\n",
              "          await google.colab.output.renderOutput(dataTable, element);\n",
              "          const docLink = document.createElement('div');\n",
              "          docLink.innerHTML = docLinkHtml;\n",
              "          element.appendChild(docLink);\n",
              "        }\n",
              "      </script>\n",
              "    </div>\n",
              "  </div>\n",
              "  "
            ]
          },
          "metadata": {},
          "execution_count": 13
        }
      ]
    },
    {
      "cell_type": "code",
      "source": [
        "col = list(df1.columns.values)\n",
        "print(col)"
      ],
      "metadata": {
        "colab": {
          "base_uri": "https://localhost:8080/"
        },
        "id": "LAW5u-scFT_O",
        "outputId": "9e331d36-0131-45cf-d72f-72edd0223352"
      },
      "execution_count": 14,
      "outputs": [
        {
          "output_type": "stream",
          "name": "stdout",
          "text": [
            "['Unnamed: 0', 'id', 'post_type_id', 'accepted_answer_id', 'parent_id', 'creation_date', 'score', 'view_count', 'owner_user_id', 'tags', 'answer_count', 'comment_count', 'favorite_count', 'community_owned_date']\n"
          ]
        }
      ]
    },
    {
      "cell_type": "code",
      "source": [
        "df1['tags']"
      ],
      "metadata": {
        "colab": {
          "base_uri": "https://localhost:8080/"
        },
        "id": "zPlfzmQ1Hhb9",
        "outputId": "567952a3-bc27-4683-de3a-16e5c9d1f039"
      },
      "execution_count": 15,
      "outputs": [
        {
          "output_type": "execute_result",
          "data": {
            "text/plain": [
              "0         <c#><floating-point><type-conversion><double><...\n",
              "1                    <html><css><css3><internet-explorer-7>\n",
              "2                                      <c#><.net><datetime>\n",
              "3         <c#><datetime><time><datediff><relative-time-s...\n",
              "4         <javascript><html><browser><timezone><timezone...\n",
              "                                ...                        \n",
              "676199                                     <python><import>\n",
              "676200                     <java><firebase><android-studio>\n",
              "676201                                                  <c>\n",
              "676202                           <angularjs><node.js><ajax>\n",
              "676203                                          <php><html>\n",
              "Name: tags, Length: 676204, dtype: object"
            ]
          },
          "metadata": {},
          "execution_count": 15
        }
      ]
    },
    {
      "cell_type": "code",
      "source": [
        "j = []\n",
        "for i in df1['tags']:\n",
        "  j.append(i.split(\">\"))\n",
        "  #j.append(x)"
      ],
      "metadata": {
        "id": "foce_LbfHoAf"
      },
      "execution_count": 17,
      "outputs": []
    },
    {
      "cell_type": "code",
      "source": [
        "l = []\n",
        "for k in range(len(j)):\n",
        "  l.append(len(j[k])-1)"
      ],
      "metadata": {
        "id": "lF5_h3YRKj1R"
      },
      "execution_count": 18,
      "outputs": []
    },
    {
      "cell_type": "code",
      "source": [
        "df = pd.DataFrame(l)"
      ],
      "metadata": {
        "id": "UIy5_lUuKql4"
      },
      "execution_count": 19,
      "outputs": []
    },
    {
      "cell_type": "code",
      "source": [
        "df.plot(figsize=(12,8))"
      ],
      "metadata": {
        "colab": {
          "base_uri": "https://localhost:8080/",
          "height": 500
        },
        "id": "-VPWtclhKwLr",
        "outputId": "4f9a0a7e-6032-4c70-ada2-ae210613d537"
      },
      "execution_count": 20,
      "outputs": [
        {
          "output_type": "execute_result",
          "data": {
            "text/plain": [
              "<matplotlib.axes._subplots.AxesSubplot at 0x7fd11350fa10>"
            ]
          },
          "metadata": {},
          "execution_count": 20
        },
        {
          "output_type": "display_data",
          "data": {
            "text/plain": [
              "<Figure size 864x576 with 1 Axes>"
            ],
            "image/png": "[encoded data removed]"
          },
          "metadata": {
            "needs_background": "light"
          }
        }
      ]
    },
    {
      "cell_type": "code",
      "source": [
        "from matplotlib import pyplot as plt\n",
        "import numpy as np\n",
        " \n",
        "\n",
        "# Creating dataset\n",
        "a = np.array(l)\n",
        "b = np.array(df1.index)\n",
        " \n",
        "# Creating histogram\n",
        "fig, ax = plt.subplots(figsize =(10, 7))\n",
        "ax.hist(a, bins = 20)\n",
        " \n",
        "# Show plot\n",
        "plt.show()"
      ],
      "metadata": {
        "colab": {
          "base_uri": "https://localhost:8080/",
          "height": 428
        },
        "id": "Y2RAfHQqKy1V",
        "outputId": "83a6d1ef-494c-41db-9fc2-4ba6652499a3"
      },
      "execution_count": 22,
      "outputs": [
        {
          "output_type": "display_data",
          "data": {
            "text/plain": [
              "<Figure size 720x504 with 1 Axes>"
            ],
            "image/png": "[encoded data removed]"
          },
          "metadata": {
            "needs_background": "light"
          }
        }
      ]
    }
  ]
}